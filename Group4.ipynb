{
 "cells": [
  {
   "cell_type": "markdown",
   "metadata": {
    "collapsed": false
   },
   "source": [
    "# Setup"
   ]
  },
  {
   "cell_type": "markdown",
   "metadata": {
    "collapsed": false
   },
   "source": [
    "## Install the required Python packages"
   ]
  },
  {
   "cell_type": "code",
   "execution_count": 1,
   "metadata": {
    "id": "p0UpOrICjAk3"
   },
   "outputs": [],
   "source": [
    "# !pip install pandas\n",
    "# !pip install sklearn\n",
    "# !pip install imblearn"
   ]
  },
  {
   "attachments": {},
   "cell_type": "markdown",
   "metadata": {},
   "source": [
    "## Load essential libraries and Dataset"
   ]
  },
  {
   "cell_type": "code",
   "execution_count": 2,
   "metadata": {
    "id": "Vk5G8AUVjFRW"
   },
   "outputs": [],
   "source": [
    "import pandas as pd\n",
    "import numpy as np\n",
    "import matplotlib.pyplot as plt\n",
    "from sklearn.model_selection import train_test_split, RandomizedSearchCV\n",
    "from sklearn.ensemble import RandomForestClassifier, ExtraTreesClassifier\n",
    "from sklearn.metrics import (accuracy_score, precision_score, recall_score, f1_score, confusion_matrix, classification_report, ConfusionMatrixDisplay)\n",
    "from imblearn.over_sampling import SMOTE"
   ]
  },
  {
   "cell_type": "code",
   "execution_count": 3,
   "metadata": {
    "colab": {
     "base_uri": "https://localhost:8080/"
    },
    "id": "-QezsfBNjIOH",
    "outputId": "76eff21b-388e-426c-f4c5-e60e017bda70"
   },
   "outputs": [
    {
     "name": "stdout",
     "output_type": "stream",
     "text": [
      "(1460, 80)\n"
     ]
    }
   ],
   "source": [
    "# Load the Dataset\n",
    "df = pd.read_csv(\"GroupProjectDataSet.csv\")\n",
    "\n",
    "# Drop the 'Id' column\n",
    "df.drop('Id', axis=1, inplace=True)\n",
    "\n",
    "print(df.shape)"
   ]
  },
  {
   "attachments": {},
   "cell_type": "markdown",
   "metadata": {},
   "source": [
    "# Handling Missing Data and Encoding Categorical Variables"
   ]
  },
  {
   "cell_type": "code",
   "execution_count": 4,
   "metadata": {
    "id": "ZW5hzg1EnT8c"
   },
   "outputs": [
    {
     "name": "stdout",
     "output_type": "stream",
     "text": [
      "37\n",
      "43\n",
      "(1460, 305)\n"
     ]
    }
   ],
   "source": [
    "# Replace missing values in numerical columns with the median\n",
    "numerical_cols = df.select_dtypes(include=['float64', 'int64']).columns\n",
    "print(len(numerical_cols))\n",
    "\n",
    "# fill missing values with median column values\n",
    "df[numerical_cols] = df[numerical_cols].fillna(df[numerical_cols].median())\n",
    "\n",
    "# Identify categorical columns\n",
    "categorical_cols = df.select_dtypes(exclude=np.number).columns\n",
    "print(len(categorical_cols))\n",
    "\n",
    "# Replace missing values in categorical columns 'MiscFeatrue' and 'PoolQC' with 'NA'\n",
    "df['MiscFeature'] = df['MiscFeature'].fillna('NA')\n",
    "df['PoolQC'] = df['PoolQC'].fillna('NA')\n",
    "\n",
    "# Replace missing values in other categorical columns with 'Unknown'\n",
    "for col in categorical_cols:\n",
    "    df[col].fillna(\"Unknown\", inplace=True)\n",
    "\n",
    "# Convert categorical columns to numeric using get_dummies encoding\n",
    "df = pd.get_dummies(df, columns=categorical_cols)\n",
    "\n",
    "print(df.shape)\n",
    "# df.to_csv('GroupProjectDataSetCleaned.csv', index=False)"
   ]
  },
  {
   "attachments": {},
   "cell_type": "markdown",
   "metadata": {},
   "source": [
    "# Feature Engineering"
   ]
  },
  {
   "attachments": {},
   "cell_type": "markdown",
   "metadata": {},
   "source": [
    "To improve our models performance, we introduce new features which are combiantions of already existing ones where it could make sense to combine them."
   ]
  },
  {
   "cell_type": "code",
   "execution_count": 5,
   "metadata": {},
   "outputs": [
    {
     "name": "stdout",
     "output_type": "stream",
     "text": [
      "(1460, 313)\n"
     ]
    }
   ],
   "source": [
    "df['TotalSF'] = df['TotalBsmtSF'] + df['1stFlrSF'] + df['2ndFlrSF']\n",
    "df['TotalBath'] = df['FullBath']+ df['BsmtFullBath'] + 0.5 * (df['HalfBath'] + df['BsmtHalfBath'])\n",
    "df['TotalPorchSF'] = df['OpenPorchSF'] + df['EnclosedPorch'] + df['3SsnPorch'] + df['ScreenPorch']\n",
    "df['HasPool'] = df['PoolArea'].apply(lambda x: 1 if x > 0 else 0)\n",
    "df['HasFireplace'] = df['Fireplaces'].apply(lambda x: 1 if x > 0 else 0)\n",
    "df['HasGarage'] = df['GarageArea'].apply(lambda x: 1 if x > 0 else 0)\n",
    "df['HasBasement'] = df['TotalBsmtSF'].apply(lambda x: 1 if x > 0 else 0)\n",
    "df['YearsSinceRemodel'] = df['YearRemodAdd'] - df['YearBuilt']\n",
    "\n",
    "# Display the DataFrame with the new feature\n",
    "print(df.shape)"
   ]
  },
  {
   "attachments": {},
   "cell_type": "markdown",
   "metadata": {},
   "source": [
    "## Evaluating Correlations Between Newly Engineered Features"
   ]
  },
  {
   "attachments": {},
   "cell_type": "markdown",
   "metadata": {},
   "source": [
    "Even though some of the new features do not have a high correlation with 'class' we will not remove any features, as this will be done automatically later."
   ]
  },
  {
   "cell_type": "code",
   "execution_count": 6,
   "metadata": {},
   "outputs": [
    {
     "data": {
      "image/png": "[encoded data removed]",
      "text/plain": [
       "<Figure size 864x576 with 2 Axes>"
      ]
     },
     "metadata": {
      "needs_background": "light"
     },
     "output_type": "display_data"
    },
    {
     "data": {
      "text/plain": [
       "['TotalSF', 'TotalBath', 'HasFireplace']"
      ]
     },
     "execution_count": 6,
     "metadata": {},
     "output_type": "execute_result"
    }
   ],
   "source": [
    "# List of new features\n",
    "new_features = [\n",
    "    'TotalSF', \n",
    "    'TotalBath', \n",
    "    'TotalPorchSF', \n",
    "    'HasPool', \n",
    "    'HasFireplace', \n",
    "    'HasGarage', \n",
    "    'HasBasement', \n",
    "    'YearsSinceRemodel'\n",
    "]\n",
    "\n",
    "# Include the target variable 'Class'\n",
    "features = new_features + ['Class']\n",
    "\n",
    "# Calculate the correlation matrix\n",
    "corr_matrix = df[features].corr()\n",
    "\n",
    "# Visualize the correlation matrix using a heatmap-like style from matplotlib\n",
    "plt.figure(figsize=(12, 8))\n",
    "plt.imshow(corr_matrix, cmap='coolwarm', interpolation='nearest')\n",
    "plt.xticks(range(len(features)), features, rotation=90)\n",
    "plt.yticks(range(len(features)), features)\n",
    "plt.colorbar()\n",
    "plt.title('Correlation Matrix for New Features and Class')\n",
    "plt.show()\n",
    "\n",
    "['TotalSF', 'TotalBath', 'HasFireplace']"
   ]
  },
  {
   "attachments": {},
   "cell_type": "markdown",
   "metadata": {},
   "source": [
    "# Dividing the Dataset into Training and Testing Sets"
   ]
  },
  {
   "cell_type": "code",
   "execution_count": 7,
   "metadata": {
    "id": "ezDQG48xnew_"
   },
   "outputs": [
    {
     "name": "stdout",
     "output_type": "stream",
     "text": [
      "X_train shape: (1168, 312)\n",
      "y_train shape: (1168,)\n",
      "X_test shape: (292, 312)\n",
      "y_test shape: (292,)\n"
     ]
    }
   ],
   "source": [
    "# Split the data into X and y\n",
    "X = df.drop('Class', axis=1)\n",
    "y = df['Class']\n",
    "\n",
    "# Split the data into training and testing sets\n",
    "X_train, X_test, y_train, y_test = train_test_split(X, y, test_size=0.2, random_state=42)\n",
    "\n",
    "# Concatenate the training and testing sets to create new DataFrames\n",
    "df_train = pd.concat([X_train, y_train], axis=1)\n",
    "df_test = pd.concat([X_test, y_test], axis=1)\n",
    "\n",
    "print(f\"X_train shape: {X_train.shape}\")\n",
    "print(f\"y_train shape: {y_train.shape}\")\n",
    "print(f\"X_test shape: {X_test.shape}\")\n",
    "print(f\"y_test shape: {y_test.shape}\")"
   ]
  },
  {
   "attachments": {},
   "cell_type": "markdown",
   "metadata": {},
   "source": [
    "# Balancing Trainingset through Upsampling"
   ]
  },
  {
   "attachments": {},
   "cell_type": "markdown",
   "metadata": {},
   "source": [
    "As we can see in below plot, the distribution of class in df_train is very unbalanced. We will address this issue by upsampling the minority classes."
   ]
  },
  {
   "cell_type": "code",
   "execution_count": 8,
   "metadata": {},
   "outputs": [
    {
     "name": "stderr",
     "output_type": "stream",
     "text": [
      "C:\\Users\\liamt\\AppData\\Local\\Temp/ipykernel_27600/822570099.py:1: MatplotlibDeprecationWarning: The seaborn styles shipped by Matplotlib are deprecated since 3.6, as they no longer correspond to the styles shipped by seaborn. However, they will remain available as 'seaborn-v0_8-<style>'. Alternatively, directly use the seaborn API instead.\n",
      "  plt.style.use('seaborn-whitegrid')\n"
     ]
    },
    {
     "data": {
      "image/png": "[encoded data removed]",
      "text/plain": [
       "<Figure size 432x288 with 1 Axes>"
      ]
     },
     "metadata": {},
     "output_type": "display_data"
    }
   ],
   "source": [
    "plt.style.use('seaborn-whitegrid')\n",
    "plt.rcParams['font.size'] = 10\n",
    "plt.hist(df_train['Class'], bins=[0, 1, 2, 3, 4, 5]);"
   ]
  },
  {
   "cell_type": "code",
   "execution_count": 9,
   "metadata": {
    "id": "QCr-mjChpWxK"
   },
   "outputs": [
    {
     "data": {
      "image/png": "[encoded data removed]",
      "text/plain": [
       "<Figure size 432x288 with 1 Axes>"
      ]
     },
     "metadata": {},
     "output_type": "display_data"
    }
   ],
   "source": [
    "# Handle class imbalance using oversampling with SMOTE\n",
    "smote_nc = SMOTE(random_state=42)\n",
    "X_resampled, y_resampled = smote_nc.fit_resample(X_train, y_train)\n",
    "df_train = pd.concat([X_resampled, y_resampled], axis=1)\n",
    "\n",
    "plt.hist(df_train['Class'], bins=[0, 1, 2, 3, 4, 5]);"
   ]
  },
  {
   "attachments": {},
   "cell_type": "markdown",
   "metadata": {},
   "source": []
  },
  {
   "attachments": {},
   "cell_type": "markdown",
   "metadata": {},
   "source": [
    "# Selecting the Most Significant Features"
   ]
  },
  {
   "cell_type": "code",
   "execution_count": 10,
   "metadata": {
    "id": "rISdLBXmqZAd"
   },
   "outputs": [],
   "source": [
    "# Feature selection using Extra Trees Classifier on the resampled training data\n",
    "model = ExtraTreesClassifier(random_state=42)\n",
    "model.fit(X_resampled, y_resampled)\n",
    "importances = model.feature_importances_\n",
    "\n",
    "# Select top 300 features with highest importance scores\n",
    "top_features = pd.Series(importances, index=X_resampled.columns).nlargest(300)\n",
    "\n",
    "# Subset X_resampled and X_test with selected features\n",
    "X_train_selected = X_resampled[top_features.index]\n",
    "X_test_selected = X_test[top_features.index]"
   ]
  },
  {
   "attachments": {},
   "cell_type": "markdown",
   "metadata": {},
   "source": [
    "# Optimizing Hyperparameters for the Random Forest Classifier"
   ]
  },
  {
   "cell_type": "code",
   "execution_count": 11,
   "metadata": {
    "id": "5Z5X3ZOKsdgR"
   },
   "outputs": [],
   "source": [
    "# # Random Forest Classifier\n",
    "# rf = RandomForestClassifier(random_state=42)\n",
    "# rf_params = {\n",
    "#     'n_estimators': [1000, 1670, 2000],\n",
    "#     'criterion': ['gini', 'entropy'],\n",
    "#     'max_depth': [10, 18, 25, None],\n",
    "#     'min_samples_split': [2, 3, 5],\n",
    "#     'min_samples_leaf': [1, 2, 4],\n",
    "#     'min_weight_fraction_leaf': [0.0, 0.1, 0.2],\n",
    "#     'max_features': ['sqrt', 'log2', None],\n",
    "#     'max_leaf_nodes': [None, 100, 500, 1000],\n",
    "#     'min_impurity_decrease': [0.0, 0.1, 0.2],\n",
    "#     'bootstrap': [True, False],\n",
    "#     'oob_score': [True, False],\n",
    "#     'n_jobs': [None, -1],\n",
    "#     'class_weight': ['balanced', 'balanced_subsample', None]\n",
    "# }\n",
    "\n",
    "# # Create the RandomizedSearchCV object\n",
    "# random_search = RandomizedSearchCV(\n",
    "#     rf, param_distributions=rf_params, n_iter=40, cv=4, verbose=1, random_state=42, n_jobs=-1)\n",
    "\n",
    "# # Fit the RandomizedSearchCV object to the data\n",
    "# random_search.fit(X_train_selected, y_resampled)\n",
    "\n",
    "# # Get the best hyperparameters\n",
    "# best_hyperparams = random_search.best_params_\n",
    "\n",
    "# # Print the best hyperparameters\n",
    "# print(\"Best hyperparameters found by RandomizedSearchCV:\")\n",
    "# print(best_hyperparams)\n"
   ]
  },
  {
   "attachments": {},
   "cell_type": "markdown",
   "metadata": {},
   "source": [
    "# Training the RandomForestClassifier"
   ]
  },
  {
   "cell_type": "code",
   "execution_count": 12,
   "metadata": {
    "id": "xSpy7xL-V0_m"
   },
   "outputs": [
    {
     "name": "stdout",
     "output_type": "stream",
     "text": [
      "Random Forest Classifier: Accuracy = 0.904, Precision = 0.838, Recall = 0.739, F1 Score = 0.778\n"
     ]
    }
   ],
   "source": [
    "# Random Forest Classifier with the best hyperparameters found\n",
    "rf_best = RandomForestClassifier(\n",
    "    n_estimators=1670,\n",
    "    criterion='gini',\n",
    "    max_depth=18,\n",
    "    min_samples_split=3,\n",
    "    min_samples_leaf=1,\n",
    "    min_weight_fraction_leaf=0.0,\n",
    "    max_features='sqrt',\n",
    "    max_leaf_nodes=None,\n",
    "    min_impurity_decrease=0.0,\n",
    "    bootstrap=False,\n",
    "    oob_score=False,\n",
    "    n_jobs=-1,\n",
    "    class_weight='balanced',\n",
    "    random_state=42\n",
    ")\n",
    "\n",
    "# Create a new Random Forest Classifier with the best hyperparameters\n",
    "# rf_best = RandomForestClassifier(**best_hyperparams, random_state=42)\n",
    "\n",
    "# Train the Random Forest model with the best hyperparameters\n",
    "rf_best.fit(X_train_selected, y_resampled)\n",
    "\n",
    "# Predict the test set\n",
    "y_pred_rf = rf_best.predict(X_test_selected)\n",
    "\n",
    "# Model evaluation\n",
    "acc_rf = accuracy_score(y_test, y_pred_rf)\n",
    "prec_rf = precision_score(y_test, y_pred_rf, average='macro')\n",
    "rec_rf = recall_score(y_test, y_pred_rf, average='macro')\n",
    "f1_rf = f1_score(y_test, y_pred_rf, average='macro')\n",
    "print(\"Random Forest Classifier: Accuracy = %.3f, Precision = %.3f, Recall = %.3f, F1 Score = %.3f\" % (acc_rf, prec_rf, rec_rf, f1_rf))"
   ]
  },
  {
   "cell_type": "markdown",
   "metadata": {
    "collapsed": false
   },
   "source": [
    "# Evaluating the Performance of the Model"
   ]
  },
  {
   "cell_type": "code",
   "execution_count": 13,
   "metadata": {
    "colab": {
     "base_uri": "https://localhost:8080/"
    },
    "id": "DMuhtQkx8Bdr",
    "outputId": "6462fcab-63e1-472f-d29e-5cb93789aeb7"
   },
   "outputs": [
    {
     "data": {
      "image/png": "[encoded data removed]",
      "text/plain": [
       "<Figure size 432x288 with 2 Axes>"
      ]
     },
     "metadata": {},
     "output_type": "display_data"
    }
   ],
   "source": [
    "conf_mat = confusion_matrix(y_test, y_pred_rf)\n",
    "conf_disp = ConfusionMatrixDisplay(conf_mat)\n",
    "conf_disp.plot()\n",
    "plt.show()"
   ]
  },
  {
   "cell_type": "code",
   "execution_count": 14,
   "metadata": {
    "colab": {
     "base_uri": "https://localhost:8080/"
    },
    "id": "4bRA9YID95Hv",
    "outputId": "fb23855a-d79d-4398-befb-f9da4269f012"
   },
   "outputs": [
    {
     "name": "stdout",
     "output_type": "stream",
     "text": [
      "              precision    recall  f1-score   support\n",
      "\n",
      "         0.0     1.0000    0.7143    0.8333        21\n",
      "         1.0     0.9268    0.9794    0.9524       194\n",
      "         2.0     0.8704    0.8103    0.8393        58\n",
      "         3.0     0.6429    0.6923    0.6667        13\n",
      "         4.0     0.7500    0.5000    0.6000         6\n",
      "\n",
      "    accuracy                         0.9041       292\n",
      "   macro avg     0.8380    0.7393    0.7783       292\n",
      "weighted avg     0.9046    0.9041    0.9014       292\n",
      "\n"
     ]
    }
   ],
   "source": [
    "print(classification_report(y_test, y_pred_rf, digits=4))"
   ]
  },
  {
   "attachments": {},
   "cell_type": "markdown",
   "metadata": {},
   "source": [
    "Without feature engineering:\n",
    "* weighted avg     0.8874    0.8870    0.8835       292\n",
    "\n",
    "Without upsampling:\n",
    "* weighted avg     0.8796    0.8801    0.8747       292\n",
    "\n",
    "Without feature engineering and upsampling\n",
    "* weighted avg     0.8780    0.8801    0.8751       292\n",
    "\n",
    "With feature engineering and upsampling:\n",
    "* weighted avg     0.9046    0.9041    0.9014       292\n",
    "\n"
   ]
  }
 ],
 "metadata": {
  "accelerator": "GPU",
  "colab": {
   "provenance": []
  },
  "gpuClass": "standard",
  "kernelspec": {
   "display_name": "Python 3",
   "name": "python3"
  },
  "language_info": {
   "codemirror_mode": {
    "name": "ipython",
    "version": 3
   },
   "file_extension": ".py",
   "mimetype": "text/x-python",
   "name": "python",
   "nbconvert_exporter": "python",
   "pygments_lexer": "ipython3",
   "version": "3.9.4"
  }
 },
 "nbformat": 4,
 "nbformat_minor": 0
}
